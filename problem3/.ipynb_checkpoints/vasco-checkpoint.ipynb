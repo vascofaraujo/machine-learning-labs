{
 "cells": [
  {
   "cell_type": "code",
   "execution_count": 15,
   "id": "6484c1a6",
   "metadata": {},
   "outputs": [],
   "source": [
    "import numpy as np\n",
    "import matplotlib.pyplot as plt\n",
    "import torch\n",
    "import torch.nn as nn\n",
    "from torch.utils.data import Dataset, DataLoader\n",
    "from torchvision import models\n",
    "from sklearn.metrics import balanced_accuracy_score as BACC\n"
   ]
  },
  {
   "cell_type": "code",
   "execution_count": 16,
   "id": "dab60c78",
   "metadata": {},
   "outputs": [],
   "source": [
    "class ImageDataset(Dataset):\n",
    "    def __init__(self):\n",
    "        xtrain = np.load(\"Xtrain_Classification_Part1.npy\")\n",
    "        ytrain = np.load(\"Ytrain_Classification_Part1.npy\")\n",
    "        xtest = np.load(\"Xtest_Classification_Part1.npy\")\n",
    "\n",
    "\n",
    "        xtrain_len = len(xtrain)\n",
    "        ytrain_len = len(ytrain)\n",
    "        xtest_len = len(xtest)\n",
    "\n",
    "        #Reshape Images\n",
    "        self.xtrain = xtrain.reshape((xtrain_len,50,50))\n",
    "        self.xtest = xtest.reshape((xtest_len,50,50))\n",
    "\n",
    "        self.ytrain = ytrain.reshape(ytrain_len).astype(np.int8)\n",
    "\n",
    "    def __len__(self):\n",
    "        return len(self.xtrain)\n",
    "\n",
    "    def __getitem__(self, idx):\n",
    "        image = self.xtrain[idx, :, :]\n",
    "        label = self.ytrain[idx]\n",
    "\n",
    "        return image, label"
   ]
  },
  {
   "cell_type": "code",
   "execution_count": 29,
   "id": "c6ff07e6",
   "metadata": {},
   "outputs": [],
   "source": [
    "class ClassifyNet(nn.Module):\n",
    "\n",
    "    def __init__(self):\n",
    "        super(ClassifyNet, self).__init__()\n",
    "        self.conv1 = nn.Conv2d(in_channels=1, out_channels=20,\n",
    "                              kernel_size=5, stride=1)\n",
    "        self.conv2 = nn.Conv2d(in_channels=20, out_channels=50,\n",
    "                              kernel_size=5, stride=1)\n",
    "        self.fc1 = nn.Linear(in_features=800, out_features=500)\n",
    "        self.fc2 = nn.Linear(in_features=500, out_features=2)\n",
    "        \n",
    "    def forward(self, x):\n",
    "        x = self.conv1(x)\n",
    "        x = nn.ReLU(x)\n",
    "        x = self.conv2(x)\n",
    "        x = nn.ReLU(x)\n",
    "        x = self.fc1(x)\n",
    "        x = nn.ReLU(x)\n",
    "        x = self.fc2(x)\n",
    "        \n",
    "        return x"
   ]
  },
  {
   "cell_type": "code",
   "execution_count": null,
   "id": "a6bebd5c",
   "metadata": {},
   "outputs": [],
   "source": [
    "config = {\n",
    "    num_epochs: \"10\"\n",
    "}"
   ]
  },
  {
   "cell_type": "code",
   "execution_count": null,
   "id": "997060f4",
   "metadata": {},
   "outputs": [],
   "source": [
    "def train_model(model):\n",
    "    \n",
    "    num_epochs = 1\n",
    "    \n",
    "    for epoch in num_epochs:\n",
    "        loss = 0.0\n",
    "        \n",
    "        for idx, data in enumerate(train_loader):\n",
    "            image, label = data\n",
    "            image = image.to(device)\n",
    "            \n",
    "            #set gradients to zero\n",
    "            optimizer.zero_grad()\n",
    "            \n",
    "            classify_output = model(image)\n",
    "            \n",
    "            loss = BACC(label, classify_output.numpy())\n",
    "            \n",
    "            print(loss)"
   ]
  },
  {
   "cell_type": "code",
   "execution_count": 30,
   "id": "bc1d7acf",
   "metadata": {},
   "outputs": [],
   "source": [
    "train_set = ImageDataset()\n",
    "\n",
    "train_loader = DataLoader(train_set, batch_size=16, shuffle=True)"
   ]
  },
  {
   "cell_type": "code",
   "execution_count": 31,
   "id": "44d4ce55",
   "metadata": {},
   "outputs": [],
   "source": [
    "device = torch.device('cuda:0' if torch.cuda.is_available() else 'cpu')"
   ]
  },
  {
   "cell_type": "code",
   "execution_count": 32,
   "id": "4a11251e",
   "metadata": {},
   "outputs": [],
   "source": [
    "model = ClassifyNet().to(device)"
   ]
  },
  {
   "cell_type": "code",
   "execution_count": null,
   "id": "f8ed977a",
   "metadata": {},
   "outputs": [],
   "source": []
  },
  {
   "cell_type": "code",
   "execution_count": 33,
   "id": "9c0325bc",
   "metadata": {},
   "outputs": [
    {
     "name": "stdout",
     "output_type": "stream",
     "text": [
      "ClassifyNet(\n",
      "  (conv1): Conv2d(1, 20, kernel_size=(5, 5), stride=(1, 1))\n",
      "  (conv2): Conv2d(20, 50, kernel_size=(5, 5), stride=(1, 1))\n",
      "  (fc1): Linear(in_features=800, out_features=500, bias=True)\n",
      "  (fc2): Linear(in_features=500, out_features=2, bias=True)\n",
      ")\n"
     ]
    }
   ],
   "source": [
    "print(model)"
   ]
  },
  {
   "cell_type": "code",
   "execution_count": 6,
   "id": "ec86d69f",
   "metadata": {},
   "outputs": [],
   "source": [
    "for data in train_loader:\n",
    "    image, label = data\n",
    "\n",
    "    #print(f\"Image size: {image.shape}, label: {label}\")"
   ]
  }
 ],
 "metadata": {
  "kernelspec": {
   "display_name": "Python 3",
   "language": "python",
   "name": "python3"
  },
  "language_info": {
   "codemirror_mode": {
    "name": "ipython",
    "version": 3
   },
   "file_extension": ".py",
   "mimetype": "text/x-python",
   "name": "python",
   "nbconvert_exporter": "python",
   "pygments_lexer": "ipython3",
   "version": "3.9.2"
  }
 },
 "nbformat": 4,
 "nbformat_minor": 5
}
